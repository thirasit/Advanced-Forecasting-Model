{
 "cells": [
  {
   "cell_type": "markdown",
   "id": "4d348b97-3523-4847-9f9f-ff4a7bf07d73",
   "metadata": {},
   "source": [
    "# **Model Evaluation for Forecasting**"
   ]
  },
  {
   "cell_type": "markdown",
   "id": "c27fec4e-655a-45ca-8bbc-d9078b563360",
   "metadata": {},
   "source": [
    "## **1. Getting the stock data example into Python.**"
   ]
  },
  {
   "cell_type": "code",
   "execution_count": 1,
   "id": "3fef9092-8ef8-4a88-8342-bf05fbe33fec",
   "metadata": {},
   "outputs": [
    {
     "data": {
      "image/png": "[encoded data removed]",
      "text/plain": [
       "<Figure size 432x288 with 1 Axes>"
      ]
     },
     "metadata": {
      "needs_background": "light"
     },
     "output_type": "display_data"
    }
   ],
   "source": [
    "import pandas as pd\n",
    "import matplotlib.pyplot as plt\n",
    "\n",
    "period = ['Januray', 'February', 'March',\n",
    "         'April', 'May', 'June',\n",
    "         'July', 'August', 'September',\n",
    "         'October', 'November', 'December']\n",
    "\n",
    "actual = [35, 35, 10, \n",
    "          5, 8, 10, \n",
    "          15, 20, 23, \n",
    "          21, 22, 25]\n",
    "\n",
    "forecast = [30, 31, 30, \n",
    "              10, 12, 17, \n",
    "              18, 27, 29, \n",
    "              24, 23, 22]\n",
    "\n",
    "data = pd.DataFrame({\n",
    "    'period': period,\n",
    "    'actual': actual,\n",
    "    'forecast': forecast\n",
    "})\n",
    "\n",
    "ax = data.plot.line(x='period')\n",
    "ax.set_title('Forecast vs Actual', fontsize=16)\n",
    "ax.set_xticklabels(ax.get_xticklabels(), rotation=45, ha='right')\n",
    "plt.show()"
   ]
  },
  {
   "cell_type": "markdown",
   "id": "bc350548-fae3-42be-aa24-0cfbc3e0b340",
   "metadata": {},
   "source": [
    "## **2. Computing the Mean Squared Error in Python.**"
   ]
  },
  {
   "cell_type": "code",
   "execution_count": 2,
   "id": "3dbed656-11c7-439d-bee3-b7be1d9ee068",
   "metadata": {},
   "outputs": [
    {
     "name": "stdout",
     "output_type": "stream",
     "text": [
      "53.666666666666664\n"
     ]
    }
   ],
   "source": [
    "from sklearn.metrics import mean_squared_error\n",
    "print(mean_squared_error(data['actual'], data['forecast']))"
   ]
  },
  {
   "cell_type": "markdown",
   "id": "b86917fa-f06c-43dd-ba97-a1d7fd3b30a4",
   "metadata": {},
   "source": [
    "## **3. Computing the Root Mean Squared Error in Python.**"
   ]
  },
  {
   "cell_type": "code",
   "execution_count": 3,
   "id": "9a57d19e-fa1a-45bc-855e-5c236d0907c5",
   "metadata": {},
   "outputs": [
    {
     "name": "stdout",
     "output_type": "stream",
     "text": [
      "7.32575365861197\n"
     ]
    }
   ],
   "source": [
    "from sklearn.metrics import mean_squared_error\n",
    "from math import sqrt\n",
    "print(sqrt(mean_squared_error(data['actual'], data['forecast'])))"
   ]
  },
  {
   "cell_type": "markdown",
   "id": "5b0d7c71-1329-4a1b-98a3-e3a6458c75ac",
   "metadata": {},
   "source": [
    "## **4.Computing the Mean Absolute Error in Python.**"
   ]
  },
  {
   "cell_type": "code",
   "execution_count": 4,
   "id": "ab9f0763-fae3-4eb1-89bd-b31f620e8e4f",
   "metadata": {},
   "outputs": [
    {
     "name": "stdout",
     "output_type": "stream",
     "text": [
      "5.666666666666667\n"
     ]
    }
   ],
   "source": [
    "from sklearn.metrics import mean_absolute_error\n",
    "print(mean_absolute_error(data['actual'], data['forecast']))"
   ]
  },
  {
   "cell_type": "markdown",
   "id": "369609fb-b8ac-4810-84d9-2515cd6a7fd2",
   "metadata": {},
   "source": [
    "## **5. Computing the Mean Absolute Percent Error in Python.**"
   ]
  },
  {
   "cell_type": "code",
   "execution_count": 5,
   "id": "8e5dfaaa-7a4a-4057-a09e-cded6ea17b1e",
   "metadata": {},
   "outputs": [
    {
     "name": "stdout",
     "output_type": "stream",
     "text": [
      "0.46469367588932814\n"
     ]
    }
   ],
   "source": [
    "from sklearn.metrics import mean_absolute_percentage_error\n",
    "print(mean_absolute_percentage_error(data['actual'], data['forecast']))"
   ]
  },
  {
   "cell_type": "markdown",
   "id": "99c3ed6f-dbbb-40fe-a074-fe64883de2b6",
   "metadata": {},
   "source": [
    "## **6. Computing the R2 in Python.**"
   ]
  },
  {
   "cell_type": "code",
   "execution_count": 6,
   "id": "c50aeec7-8efe-4b6b-b502-0b5c03715a81",
   "metadata": {},
   "outputs": [
    {
     "data": {
      "text/plain": [
       "0.39976699029126206"
      ]
     },
     "execution_count": 6,
     "metadata": {},
     "output_type": "execute_result"
    }
   ],
   "source": [
    "from sklearn.metrics import r2_score\n",
    "r2_score(data['actual'], data['forecast'])"
   ]
  },
  {
   "cell_type": "markdown",
   "id": "19c1c1ec-a254-4539-a89c-5f0fb8a90292",
   "metadata": {},
   "source": [
    "## **7. Train Test Split in Python.**"
   ]
  },
  {
   "cell_type": "code",
   "execution_count": 7,
   "id": "bdd57116-200e-44c5-9871-226a7b0de9bb",
   "metadata": {},
   "outputs": [
    {
     "name": "stdout",
     "output_type": "stream",
     "text": [
      "122.9375 32.4375\n"
     ]
    }
   ],
   "source": [
    "from sklearn.model_selection import train_test_split\n",
    "y = data['actual']\n",
    "train, test = train_test_split(y, test_size=0.3, shuffle=False)\n",
    "forecast = train.mean() # forecast is 17.25\n",
    "train = pd.DataFrame(train)\n",
    "train['forecast'] = forecast\n",
    "train_error = mean_squared_error(train['actual'], train['forecast'])\n",
    "\n",
    "test = pd.DataFrame(test)\n",
    "test['forecast'] = forecast\n",
    "test_error = mean_squared_error(test['actual'], test['forecast'])\n",
    "print(train_error, test_error)"
   ]
  },
  {
   "cell_type": "markdown",
   "id": "adb3f752-3859-4426-8a73-b2630f68f019",
   "metadata": {},
   "source": [
    "## **8. Train Validation Test Split in Python.**"
   ]
  },
  {
   "cell_type": "code",
   "execution_count": 8,
   "id": "8ebfffe4-3d17-4b6f-826b-d006f9da2b07",
   "metadata": {},
   "outputs": [
    {
     "name": "stdout",
     "output_type": "stream",
     "text": [
      "23.5625 91.25\n",
      "41.3125\n"
     ]
    }
   ],
   "source": [
    "# Splitting into 70% train, 15% validation and 15% test\n",
    "train, test = train_test_split(data['actual'], test_size = 0.3, shuffle = False, random_state=12345)\n",
    "val, test = train_test_split(test, test_size = 0.5, shuffle = False, random_state=12345)\n",
    "\n",
    "# Fit (estimate) the two models on the train data\n",
    "forecast_mean = train.mean() # 17.25\n",
    "forecast_median = train.median() # 12.5\n",
    "\n",
    "# Compute MSE on validation data for both models\n",
    "val = pd.DataFrame(val)\n",
    "\n",
    "val['forecast_mean'] = forecast_mean\n",
    "val['forecast_median'] = forecast_median\n",
    "\n",
    "mean_val_mse = mean_squared_error(val['actual'], val['forecast_mean'])\n",
    "median_val_mse = mean_squared_error(val['actual'], val['forecast_median'])\n",
    "\n",
    "# You observe the following validation mse: mean mse: 23.56, median mse: 91.25\n",
    "print(mean_val_mse, median_val_mse) \n",
    "\n",
    "# The best performance is the mean model, so verify its error on test data\n",
    "test = pd.DataFrame(test)\n",
    "test['forecast_mean'] = forecast_mean\n",
    "\n",
    "mean_test_mse = mean_squared_error(test['actual'], test['forecast_mean'])\n",
    "\n",
    "# You observe a test mse of 41.3125, almost double the validation mse\n",
    "print(mean_test_mse)"
   ]
  },
  {
   "cell_type": "markdown",
   "id": "bef09969-5a80-4647-8ac2-0962d97aa2fc",
   "metadata": {},
   "source": [
    "## **9. K-fold cross-validation in Python.**"
   ]
  },
  {
   "cell_type": "code",
   "execution_count": 9,
   "id": "d41a4308-5a00-4923-acfb-19938ec3f027",
   "metadata": {},
   "outputs": [
    {
     "name": "stdout",
     "output_type": "stream",
     "text": [
      "106.10234567901234\n"
     ]
    },
    {
     "name": "stderr",
     "output_type": "stream",
     "text": [
      "/tmp/ipykernel_5238/660181515.py:12: SettingWithCopyWarning: \n",
      "A value is trying to be set on a copy of a slice from a DataFrame.\n",
      "Try using .loc[row_indexer,col_indexer] = value instead\n",
      "\n",
      "See the caveats in the documentation: https://pandas.pydata.org/pandas-docs/stable/user_guide/indexing.html#returning-a-view-versus-a-copy\n",
      "  test['forecast'] = pred\n",
      "/tmp/ipykernel_5238/660181515.py:12: SettingWithCopyWarning: \n",
      "A value is trying to be set on a copy of a slice from a DataFrame.\n",
      "Try using .loc[row_indexer,col_indexer] = value instead\n",
      "\n",
      "See the caveats in the documentation: https://pandas.pydata.org/pandas-docs/stable/user_guide/indexing.html#returning-a-view-versus-a-copy\n",
      "  test['forecast'] = pred\n",
      "/tmp/ipykernel_5238/660181515.py:12: SettingWithCopyWarning: \n",
      "A value is trying to be set on a copy of a slice from a DataFrame.\n",
      "Try using .loc[row_indexer,col_indexer] = value instead\n",
      "\n",
      "See the caveats in the documentation: https://pandas.pydata.org/pandas-docs/stable/user_guide/indexing.html#returning-a-view-versus-a-copy\n",
      "  test['forecast'] = pred\n",
      "/tmp/ipykernel_5238/660181515.py:12: SettingWithCopyWarning: \n",
      "A value is trying to be set on a copy of a slice from a DataFrame.\n",
      "Try using .loc[row_indexer,col_indexer] = value instead\n",
      "\n",
      "See the caveats in the documentation: https://pandas.pydata.org/pandas-docs/stable/user_guide/indexing.html#returning-a-view-versus-a-copy\n",
      "  test['forecast'] = pred\n",
      "/tmp/ipykernel_5238/660181515.py:12: SettingWithCopyWarning: \n",
      "A value is trying to be set on a copy of a slice from a DataFrame.\n",
      "Try using .loc[row_indexer,col_indexer] = value instead\n",
      "\n",
      "See the caveats in the documentation: https://pandas.pydata.org/pandas-docs/stable/user_guide/indexing.html#returning-a-view-versus-a-copy\n",
      "  test['forecast'] = pred\n"
     ]
    }
   ],
   "source": [
    "import numpy as np\n",
    "from sklearn.model_selection import KFold\n",
    "\n",
    "kf = KFold(n_splits=5)\n",
    "\n",
    "errors = []\n",
    "for train_index, test_index in kf.split(data):\n",
    "    train = data.iloc[train_index,:]\n",
    "    test = data.iloc[test_index,:]\n",
    "    \n",
    "    pred = train['actual'].mean()\n",
    "    test['forecast'] = pred\n",
    "    error = mean_squared_error(test['actual'], test['forecast'])\n",
    "    errors.append(error)\n",
    "\n",
    "print(np.mean(errors))"
   ]
  },
  {
   "cell_type": "markdown",
   "id": "785600af-5050-4277-9506-bff8e54e74e5",
   "metadata": {},
   "source": [
    "## **10. Time Series Cross-Valdiation in Python.**"
   ]
  },
  {
   "cell_type": "code",
   "execution_count": 10,
   "id": "4c714444-e2ce-4710-bfab-594d5f8be208",
   "metadata": {},
   "outputs": [
    {
     "name": "stdout",
     "output_type": "stream",
     "text": [
      "194.76522222222223\n"
     ]
    },
    {
     "name": "stderr",
     "output_type": "stream",
     "text": [
      "/tmp/ipykernel_5238/106943722.py:9: SettingWithCopyWarning: \n",
      "A value is trying to be set on a copy of a slice from a DataFrame.\n",
      "Try using .loc[row_indexer,col_indexer] = value instead\n",
      "\n",
      "See the caveats in the documentation: https://pandas.pydata.org/pandas-docs/stable/user_guide/indexing.html#returning-a-view-versus-a-copy\n",
      "  test['forecast'] = pred\n",
      "/tmp/ipykernel_5238/106943722.py:9: SettingWithCopyWarning: \n",
      "A value is trying to be set on a copy of a slice from a DataFrame.\n",
      "Try using .loc[row_indexer,col_indexer] = value instead\n",
      "\n",
      "See the caveats in the documentation: https://pandas.pydata.org/pandas-docs/stable/user_guide/indexing.html#returning-a-view-versus-a-copy\n",
      "  test['forecast'] = pred\n",
      "/tmp/ipykernel_5238/106943722.py:9: SettingWithCopyWarning: \n",
      "A value is trying to be set on a copy of a slice from a DataFrame.\n",
      "Try using .loc[row_indexer,col_indexer] = value instead\n",
      "\n",
      "See the caveats in the documentation: https://pandas.pydata.org/pandas-docs/stable/user_guide/indexing.html#returning-a-view-versus-a-copy\n",
      "  test['forecast'] = pred\n",
      "/tmp/ipykernel_5238/106943722.py:9: SettingWithCopyWarning: \n",
      "A value is trying to be set on a copy of a slice from a DataFrame.\n",
      "Try using .loc[row_indexer,col_indexer] = value instead\n",
      "\n",
      "See the caveats in the documentation: https://pandas.pydata.org/pandas-docs/stable/user_guide/indexing.html#returning-a-view-versus-a-copy\n",
      "  test['forecast'] = pred\n",
      "/tmp/ipykernel_5238/106943722.py:9: SettingWithCopyWarning: \n",
      "A value is trying to be set on a copy of a slice from a DataFrame.\n",
      "Try using .loc[row_indexer,col_indexer] = value instead\n",
      "\n",
      "See the caveats in the documentation: https://pandas.pydata.org/pandas-docs/stable/user_guide/indexing.html#returning-a-view-versus-a-copy\n",
      "  test['forecast'] = pred\n"
     ]
    }
   ],
   "source": [
    "from sklearn.model_selection import TimeSeriesSplit\n",
    "tscv = TimeSeriesSplit()\n",
    "\n",
    "errors = []\n",
    "for train_index, test_index in tscv.split(data):\n",
    "    train = data.iloc[train_index,:]\n",
    "    test = data.iloc[test_index,:]\n",
    "    pred = train['actual'].mean()\n",
    "    test['forecast'] = pred\n",
    "    error = mean_squared_error(test['actual'], test['forecast'])\n",
    "    errors.append(error)\n",
    "    \n",
    "print(np.mean(errors))"
   ]
  },
  {
   "cell_type": "markdown",
   "id": "1c3ce20c-6d63-43af-911b-8e0a6026f21a",
   "metadata": {},
   "source": [
    "## **11. Rolling Time Series Cross-Valdiation in Python.**"
   ]
  },
  {
   "cell_type": "code",
   "execution_count": 11,
   "id": "fe402585-ce8e-4769-8917-54fe318796b0",
   "metadata": {},
   "outputs": [
    {
     "name": "stdout",
     "output_type": "stream",
     "text": [
      "174.0\n"
     ]
    },
    {
     "name": "stderr",
     "output_type": "stream",
     "text": [
      "/tmp/ipykernel_5238/2055737811.py:10: SettingWithCopyWarning: \n",
      "A value is trying to be set on a copy of a slice from a DataFrame.\n",
      "Try using .loc[row_indexer,col_indexer] = value instead\n",
      "\n",
      "See the caveats in the documentation: https://pandas.pydata.org/pandas-docs/stable/user_guide/indexing.html#returning-a-view-versus-a-copy\n",
      "  test['forecast'] = pred\n",
      "/tmp/ipykernel_5238/2055737811.py:10: SettingWithCopyWarning: \n",
      "A value is trying to be set on a copy of a slice from a DataFrame.\n",
      "Try using .loc[row_indexer,col_indexer] = value instead\n",
      "\n",
      "See the caveats in the documentation: https://pandas.pydata.org/pandas-docs/stable/user_guide/indexing.html#returning-a-view-versus-a-copy\n",
      "  test['forecast'] = pred\n",
      "/tmp/ipykernel_5238/2055737811.py:10: SettingWithCopyWarning: \n",
      "A value is trying to be set on a copy of a slice from a DataFrame.\n",
      "Try using .loc[row_indexer,col_indexer] = value instead\n",
      "\n",
      "See the caveats in the documentation: https://pandas.pydata.org/pandas-docs/stable/user_guide/indexing.html#returning-a-view-versus-a-copy\n",
      "  test['forecast'] = pred\n",
      "/tmp/ipykernel_5238/2055737811.py:10: SettingWithCopyWarning: \n",
      "A value is trying to be set on a copy of a slice from a DataFrame.\n",
      "Try using .loc[row_indexer,col_indexer] = value instead\n",
      "\n",
      "See the caveats in the documentation: https://pandas.pydata.org/pandas-docs/stable/user_guide/indexing.html#returning-a-view-versus-a-copy\n",
      "  test['forecast'] = pred\n",
      "/tmp/ipykernel_5238/2055737811.py:10: SettingWithCopyWarning: \n",
      "A value is trying to be set on a copy of a slice from a DataFrame.\n",
      "Try using .loc[row_indexer,col_indexer] = value instead\n",
      "\n",
      "See the caveats in the documentation: https://pandas.pydata.org/pandas-docs/stable/user_guide/indexing.html#returning-a-view-versus-a-copy\n",
      "  test['forecast'] = pred\n"
     ]
    }
   ],
   "source": [
    "from sklearn.model_selection import TimeSeriesSplit\n",
    "tscv = TimeSeriesSplit(max_train_size = 2)\n",
    "\n",
    "errors = []\n",
    "for train_index, test_index in tscv.split(data):\n",
    "    train = data.iloc[train_index,:]\n",
    "    test = data.iloc[test_index,:]\n",
    "    \n",
    "    pred = train['actual'].mean()\n",
    "    test['forecast'] = pred\n",
    "    error = mean_squared_error(test['actual'], test['forecast'])\n",
    "    errors.append(error)\n",
    "    \n",
    "print(np.mean(errors))"
   ]
  }
 ],
 "metadata": {
  "kernelspec": {
   "display_name": "Qiskit v0.34.1 (ipykernel)",
   "language": "python",
   "name": "python3"
  },
  "language_info": {
   "codemirror_mode": {
    "name": "ipython",
    "version": 3
   },
   "file_extension": ".py",
   "mimetype": "text/x-python",
   "name": "python",
   "nbconvert_exporter": "python",
   "pygments_lexer": "ipython3",
   "version": "3.8.12"
  },
  "widgets": {
   "application/vnd.jupyter.widget-state+json": {
    "state": {},
    "version_major": 2,
    "version_minor": 0
   }
  }
 },
 "nbformat": 4,
 "nbformat_minor": 5
}
