{
 "cells": [
  {
   "cell_type": "markdown",
   "id": "ec4e6a53-a5d2-4233-8c18-5e6c0b77f7c0",
   "metadata": {},
   "source": [
    "# **Models for Forecasting**"
   ]
  },
  {
   "cell_type": "markdown",
   "id": "b905bc68-88ad-43f5-99ca-6ab2255e98af",
   "metadata": {},
   "source": [
    "## **1. Getting the coffee example into Python and plotting the trend.**"
   ]
  },
  {
   "cell_type": "code",
   "execution_count": null,
   "id": "4974b179-69d9-41b9-99ec-d0d03d14f7fe",
   "metadata": {},
   "outputs": [],
   "source": [
    "import pandas as pd\n",
    "import matplotlib.pyplot as plt\n",
    "\n",
    "years = [1965, 1970, 1975, 1980, 1985, 1990, 1995, 2000, 2005, 2010, 2015, 2020]\n",
    "prices = [1.00, 1.20, 1.40, 1.60, 1.80, 2.00, 2.20, 2.40, 2.60, 2.80, 3.00, 3.20]\n",
    "\n",
    "data = pd.DataFrame({\n",
    "    'year' : years,\n",
    "    'prices': prices\n",
    "})\n",
    "ax = data.plot.line(x='year')\n",
    "ax.set_title('Coffee Price Over Time', fontsize=16)\n",
    "plt.show()"
   ]
  },
  {
   "cell_type": "markdown",
   "id": "677cad08-f60d-4d17-bf07-9665f1d8cd2b",
   "metadata": {},
   "source": [
    "## **2. Getting the hot chocolate example into Python and plotting the trend.**"
   ]
  },
  {
   "cell_type": "code",
   "execution_count": null,
   "id": "17138e81-217d-48ba-896a-34329604abf5",
   "metadata": {},
   "outputs": [],
   "source": [
    "seasons = [\"Spring 2018\", \"Summer 2018\", \"Autumn 2018\", \"Winter 2018\",\n",
    "           \"Spring 2019\", \"Summer 2019\", \"Autumn 2019\", \"Winter 2019\",\n",
    "           \"Spring 2020\", \"Summer 2020\", \"Autumn 2020\", \"Winter 2020\"]\n",
    "prices = [2.80, 2.60, 3.00, 3.20,\n",
    "          2.80, 2.60, 3.00, 3.20,\n",
    "          2.80, 2.60, 3.00, 3.20]\n",
    "\n",
    "data = pd.DataFrame({\n",
    "    'season': seasons,\n",
    "    'price': prices\n",
    "})\n",
    "\n",
    "ax = data.plot.line(x='season')\n",
    "ax.set_title('Hot Chocolate Price Over Time', fontsize=16)\n",
    "ax.set_xticklabels(ax.get_xticklabels(), rotation=45, ha='right')\n",
    "plt.show()"
   ]
  },
  {
   "cell_type": "markdown",
   "id": "da7771fe-cfdb-40f6-aadc-67c25032bc67",
   "metadata": {},
   "source": [
    "## **3. Getting the quarterly sales example into Python and plotting the trend.**"
   ]
  },
  {
   "cell_type": "code",
   "execution_count": null,
   "id": "b9f7258e-f68b-4f6d-8d0e-522b825bef36",
   "metadata": {},
   "outputs": [],
   "source": [
    "quarters = [\"Q1 2018\", \"Q2 2018\", \"Q3 2018\", \"Q4 2018\",\n",
    "            \"Q1 2019\", \"Q2 2019\", \"Q3 2019\", \"Q4 2019\",\n",
    "            \"Q1 2020\", \"Q2 2020\", \"Q3 2020\", \"Q4 2020\"]\n",
    "\n",
    "sales = [48, 20, 42, 32,\n",
    "         16, 58, 40, 30,\n",
    "         32, 31, 53, 40]\n",
    "\n",
    "\n",
    "data = pd.DataFrame({\n",
    "    'quarter': quarters,\n",
    "    'sales': sales\n",
    "})\n",
    "\n",
    "ax = data.plot.line(x='quarter')\n",
    "ax.set_title('Sales Per Quarter', fontsize=16)\n",
    "ax.set_xticklabels(ax.get_xticklabels(), rotation=45, ha='right')\n",
    "plt.show()"
   ]
  },
  {
   "cell_type": "markdown",
   "id": "74f6d3eb-ffb3-4069-844b-98ec0dba27a7",
   "metadata": {},
   "source": [
    "## **4. Getting the quarterly sales example into Python and plotting the trend.**"
   ]
  },
  {
   "cell_type": "code",
   "execution_count": null,
   "id": "5fbbc68a-3ad2-4fa4-a0e5-e066a91fdf8b",
   "metadata": {},
   "outputs": [],
   "source": [
    "quarters = [\"Q1 2018\", \"Q2 2018\", \"Q3 2018\", \"Q4 2018\",\n",
    "            \"Q1 2019\", \"Q2 2019\", \"Q3 2019\", \"Q4 2019\",\n",
    "            \"Q1 2020\", \"Q2 2020\", \"Q3 2020\", \"Q4 2020\"]\n",
    "\n",
    "sales = [48, 20, 42, 32,\n",
    "         16, 58, 40, 30,\n",
    "         32, 31, 53, 40]\n",
    "\n",
    "discounts = [4,2,3,\n",
    "             3,2,6,\n",
    "             4,3,3,\n",
    "             3,6,6]\n",
    "\n",
    "advertising = [500,150,400,\n",
    "               300,100,500,\n",
    "               380,280,290,\n",
    "               315,625,585]\n",
    "\n",
    "data = pd.DataFrame({\n",
    "    'quarter': quarters,\n",
    "    'sales': sales,\n",
    "    'discount': discounts,\n",
    "    'advertising': advertising\n",
    "})\n",
    "\n",
    "ax = data.plot.line(x='quarter')\n",
    "ax.set_title('Sales Per Quarter', fontsize=16)\n",
    "ax.set_xticklabels(ax.get_xticklabels(), rotation=45, ha='right')\n",
    "plt.show()"
   ]
  },
  {
   "cell_type": "markdown",
   "id": "b2307625-0e51-4c04-abf0-bf04f78c730d",
   "metadata": {},
   "source": [
    "## **5. Zooming in on the correlated variables of the Quarterly Sales example.**"
   ]
  },
  {
   "cell_type": "code",
   "execution_count": null,
   "id": "3e50aead-2535-48ed-8b7c-aca89de939e1",
   "metadata": {},
   "outputs": [],
   "source": [
    "quarters = [\"Q1 2018\", \"Q2 2018\", \"Q3 2018\", \"Q4 2018\",\n",
    "            \"Q1 2019\", \"Q2 2019\", \"Q3 2019\", \"Q4 2019\",\n",
    "            \"Q1 2020\", \"Q2 2020\", \"Q3 2020\", \"Q4 2020\"]\n",
    "\n",
    "sales = [48, 20, 42, 32,\n",
    "         16, 58, 40, 30,\n",
    "         32, 31, 53, 40]\n",
    "\n",
    "discounts = [4,2,3,\n",
    "             3,2,6,\n",
    "             4,3,3,\n",
    "             3,6,6]\n",
    "\n",
    "discounts_scale_adjusted = [x * 10 for x in discounts]\n",
    "\n",
    "advertising = [500,150,400,\n",
    "               300,100,500,\n",
    "               380,280,290,\n",
    "               315,625,585]\n",
    "\n",
    "advertising_scale_adjusted = [x / 10 for x in advertising]\n",
    "\n",
    "data = pd.DataFrame({\n",
    "    'quarter': quarters,\n",
    "    'sales': sales,\n",
    "    'discount': discounts_scale_adjusted,\n",
    "    'advertising': advertising_scale_adjusted\n",
    "})\n",
    "\n",
    "ax = data.plot.line(x='quarter')\n",
    "ax.set_title('Sales Per Quarter', fontsize=16)\n",
    "ax.set_xticklabels(ax.get_xticklabels(), rotation=45, ha='right')\n",
    "plt.show()"
   ]
  },
  {
   "cell_type": "markdown",
   "id": "bed07d9e-639b-4beb-89fa-7774f44d77fc",
   "metadata": {},
   "source": [
    "## Lis6. Getting the quarterly sales example into Python and plotting the trend."
   ]
  }
 ],
 "metadata": {
  "kernelspec": {
   "display_name": "Qiskit v0.34.1 (ipykernel)",
   "language": "python",
   "name": "python3"
  },
  "language_info": {
   "codemirror_mode": {
    "name": "ipython",
    "version": 3
   },
   "file_extension": ".py",
   "mimetype": "text/x-python",
   "name": "python",
   "nbconvert_exporter": "python",
   "pygments_lexer": "ipython3",
   "version": "3.8.12"
  },
  "widgets": {
   "application/vnd.jupyter.widget-state+json": {
    "state": {},
    "version_major": 2,
    "version_minor": 0
   }
  }
 },
 "nbformat": 4,
 "nbformat_minor": 5
}
